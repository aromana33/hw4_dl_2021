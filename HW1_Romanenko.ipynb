{
  "nbformat": 4,
  "nbformat_minor": 0,
  "metadata": {
    "kernelspec": {
      "display_name": "Python 3",
      "language": "python",
      "name": "python3"
    },
    "language_info": {
      "codemirror_mode": {
        "name": "ipython",
        "version": 3
      },
      "file_extension": ".py",
      "mimetype": "text/x-python",
      "name": "python",
      "nbconvert_exporter": "python",
      "pygments_lexer": "ipython3",
      "version": "3.7.6"
    },
    "colab": {
      "name": "HW1_Romanenko.ipynb",
      "provenance": [],
      "collapsed_sections": [
        "a3NfY9LLC6hp",
        "Z8atgDnYC6hq",
        "FBc06Pa7C6hv"
      ]
    },
    "accelerator": "GPU"
  },
  "cells": [
    {
      "cell_type": "markdown",
      "metadata": {
        "id": "1yHQIUDPC6ha"
      },
      "source": [
        "<center><img src=\"https://github.com/aromana33/hw4_dl_2021/blob/main/img/logo_hse.png?raw=1\" width=\"1000\"></center>\n",
        "\n",
        "<h1><center>Прикладные задачи анализа данных</center></h1>\n",
        "<h2><center>Домашнее задание: генеративно-состязательные сети</center></h2>"
      ]
    },
    {
      "cell_type": "markdown",
      "metadata": {
        "id": "cL8UaduyC6hc"
      },
      "source": [
        "# Введение"
      ]
    },
    {
      "cell_type": "markdown",
      "metadata": {
        "id": "cJtGTtEeC6hd"
      },
      "source": [
        "## MAGIC – Major Atmospheric Gamma Imaging Cherenkov Telescope"
      ]
    },
    {
      "cell_type": "markdown",
      "metadata": {
        "id": "CHibhmcBC6hd"
      },
      "source": [
        "MAGIC (Major Atmospheric Gamma Imaging Cherenkov) - это система, состоящая из двух черенковских телескопов диаметром 17 м. Они предназначены для наблюдения гамма-лучей от галактических и внегалактических источников в диапазоне очень высоких энергий (от 30 ГэВ до 100 ТэВ). \n",
        "\n",
        "Телескопами MAGIC в настоящее время управляют около 165 астрофизиков из 24 организаций и консорциумов из 12 стран. MAGIC позволил открыть и исследовать новые классы источников гамма-излучения, таких как, например, пульсары и гамма-всплески (GRB).\n",
        "\n",
        "<center><img src=\"https://github.com/aromana33/hw4_dl_2021/blob/main/img/magic1.jpg?raw=1\" width=\"1000\"></center>\n",
        "\n",
        "Источник: https://magic.mpp.mpg.de/\n",
        "\n",
        "Youtube video: https://youtu.be/mjcDSR2vSU8"
      ]
    },
    {
      "cell_type": "markdown",
      "metadata": {
        "id": "DCMkFac-C6hd"
      },
      "source": [
        "## Частицы из космоса"
      ]
    },
    {
      "cell_type": "markdown",
      "metadata": {
        "id": "Hb2_9ImAC6he"
      },
      "source": [
        "Космические частицы, $\\gamma$-кванты (фотоны) и адроны (протоны), взаимодействуют с атмосферой и порождают ливни вторичных частиц. Двигаясь с околосветовой скоростью, эти частицы излучают Черенковское излучение. Телескопы фотографируют это излучение. По фотографиям можно определить тип частицы из космоса: фотон или протон.\n",
        "\n",
        "<center><img src=\"https://github.com/aromana33/hw4_dl_2021/blob/main/img/shower.jpg?raw=1\" width=\"500\"></center>"
      ]
    },
    {
      "cell_type": "markdown",
      "metadata": {
        "id": "OZ06pC1LC6he"
      },
      "source": [
        "## Фотографии"
      ]
    },
    {
      "cell_type": "markdown",
      "metadata": {
        "id": "antXEHEiC6he"
      },
      "source": [
        "Задача атмосферного черенковского телескопа - получить изображение ливня путем измерения черенковского света от частиц ливня. Это изображение представляет собой геометрическую проекцию ливня на детектор. Для анализа этих изображений были введены параметры изображения или так называемые параметры Хилласа. Есть два вида параметров изображения: параметры формы и параметры ориентации. (Источник: http://ihp-lx.ethz.ch/Stamet/magic/parameters.html)\n",
        "\n",
        "<center><img src=\"https://github.com/aromana33/hw4_dl_2021/blob/main/img/geo.jpg?raw=1\" width=\"400\"></center>"
      ]
    },
    {
      "cell_type": "markdown",
      "metadata": {
        "id": "Ht6P6FFdC6he"
      },
      "source": [
        "## Фотоны vs адронов"
      ]
    },
    {
      "cell_type": "markdown",
      "metadata": {
        "id": "cnV_dW5xC6hf"
      },
      "source": [
        "Изображения для $\\gamma$-квантов (фотонов) и адронов (протонов) отличаются по форме кластеров. Астрономы используют модели машинного обучения для классификации этих изображений. Для обучения моделей ученые искусственно генерируют такие изображения для каждого типа частиц с помощью сложных физических симуляторов.\n",
        "\n",
        "\n",
        "<center><img src=\"https://github.com/aromana33/hw4_dl_2021/blob/main/img/gamma_p.png?raw=1\" width=\"600\"></center>"
      ]
    },
    {
      "cell_type": "markdown",
      "metadata": {
        "id": "f6kdHLPwC6hf"
      },
      "source": [
        "## Ускорение симуляции"
      ]
    },
    {
      "cell_type": "markdown",
      "metadata": {
        "id": "pWK-NPXMC6hf"
      },
      "source": [
        "Сложные физические симуляторы требуют больших вычислительных ресурсов. Они моделируют прилет частиц из космоса, их взаимодействие с атмосферой, рождение ливней, черенковского излучения и работы телескопов для получения изображений. Но мы можем использовать генеративно-состязательные сети для быстрой симуляции!"
      ]
    },
    {
      "cell_type": "code",
      "metadata": {
        "id": "jFFBF4VtC6hf"
      },
      "source": [
        "%matplotlib inline\n",
        "import matplotlib.pyplot as plt\n",
        "import numpy as np\n",
        "import pandas as pd"
      ],
      "execution_count": 1,
      "outputs": []
    },
    {
      "cell_type": "markdown",
      "metadata": {
        "id": "Za23hG_9C6hf"
      },
      "source": [
        "# Данные"
      ]
    },
    {
      "cell_type": "markdown",
      "metadata": {
        "id": "4t5h4dv3C6hg"
      },
      "source": [
        "Будем использовать данные телескопа MAGIC из UCI репозитория https://archive.ics.uci.edu/ml/datasets/MAGIC+Gamma+Telescope. Каждый объект в данных - параметры одного изображения кластера и метка этого кластера (фотон или адрон):\n",
        "\n",
        "\n",
        "0. Length: major axis of ellipse [mm]\n",
        "1. Width: minor axis of ellipse [mm]\n",
        "2. Size: 10-log of sum of content of all pixels [in #phot]\n",
        "3. Conc: ratio of sum of two highest pixels over fSize [ratio]\n",
        "4. Conc1: ratio of highest pixel over fSize [ratio]\n",
        "5. Asym: distance from highest pixel to center, projected onto major axis [mm]\n",
        "6. M3Long: 3rd root of third moment along major axis [mm]\n",
        "7. M3Trans: 3rd root of third moment along minor axis [mm]\n",
        "8. Alpha: angle of major axis with vector to origin [deg]\n",
        "9. Dist: distance from origin to center of ellipse [mm]\n",
        "10. class: g,h # gamma (signal), hadron (background)"
      ]
    },
    {
      "cell_type": "code",
      "metadata": {
        "colab": {
          "base_uri": "https://localhost:8080/",
          "height": 201
        },
        "id": "UTSSAm8KC6hg",
        "outputId": "03850e64-5445-4802-d8a3-9e5b396e2859"
      },
      "source": [
        "# read data\n",
        "names = np.array(['Length', 'Width', 'Size', 'Conc', 'Conc1', 'Asym', 'M3Long', 'M3Trans', 'Alpha', 'Dist', 'class'])\n",
        "data_url = 'https://raw.githubusercontent.com/aromana33/hw4_dl_2021/main/magic04.data'\n",
        "data = pd.read_csv(data_url, header=None)\n",
        "data.columns = names\n",
        "data.head()"
      ],
      "execution_count": 2,
      "outputs": [
        {
          "output_type": "execute_result",
          "data": {
            "text/html": [
              "<div>\n",
              "<style scoped>\n",
              "    .dataframe tbody tr th:only-of-type {\n",
              "        vertical-align: middle;\n",
              "    }\n",
              "\n",
              "    .dataframe tbody tr th {\n",
              "        vertical-align: top;\n",
              "    }\n",
              "\n",
              "    .dataframe thead th {\n",
              "        text-align: right;\n",
              "    }\n",
              "</style>\n",
              "<table border=\"1\" class=\"dataframe\">\n",
              "  <thead>\n",
              "    <tr style=\"text-align: right;\">\n",
              "      <th></th>\n",
              "      <th>Length</th>\n",
              "      <th>Width</th>\n",
              "      <th>Size</th>\n",
              "      <th>Conc</th>\n",
              "      <th>Conc1</th>\n",
              "      <th>Asym</th>\n",
              "      <th>M3Long</th>\n",
              "      <th>M3Trans</th>\n",
              "      <th>Alpha</th>\n",
              "      <th>Dist</th>\n",
              "      <th>class</th>\n",
              "    </tr>\n",
              "  </thead>\n",
              "  <tbody>\n",
              "    <tr>\n",
              "      <th>0</th>\n",
              "      <td>28.7967</td>\n",
              "      <td>16.0021</td>\n",
              "      <td>2.6449</td>\n",
              "      <td>0.3918</td>\n",
              "      <td>0.1982</td>\n",
              "      <td>27.7004</td>\n",
              "      <td>22.0110</td>\n",
              "      <td>-8.2027</td>\n",
              "      <td>40.0920</td>\n",
              "      <td>81.8828</td>\n",
              "      <td>g</td>\n",
              "    </tr>\n",
              "    <tr>\n",
              "      <th>1</th>\n",
              "      <td>31.6036</td>\n",
              "      <td>11.7235</td>\n",
              "      <td>2.5185</td>\n",
              "      <td>0.5303</td>\n",
              "      <td>0.3773</td>\n",
              "      <td>26.2722</td>\n",
              "      <td>23.8238</td>\n",
              "      <td>-9.9574</td>\n",
              "      <td>6.3609</td>\n",
              "      <td>205.2610</td>\n",
              "      <td>g</td>\n",
              "    </tr>\n",
              "    <tr>\n",
              "      <th>2</th>\n",
              "      <td>162.0520</td>\n",
              "      <td>136.0310</td>\n",
              "      <td>4.0612</td>\n",
              "      <td>0.0374</td>\n",
              "      <td>0.0187</td>\n",
              "      <td>116.7410</td>\n",
              "      <td>-64.8580</td>\n",
              "      <td>-45.2160</td>\n",
              "      <td>76.9600</td>\n",
              "      <td>256.7880</td>\n",
              "      <td>g</td>\n",
              "    </tr>\n",
              "    <tr>\n",
              "      <th>3</th>\n",
              "      <td>23.8172</td>\n",
              "      <td>9.5728</td>\n",
              "      <td>2.3385</td>\n",
              "      <td>0.6147</td>\n",
              "      <td>0.3922</td>\n",
              "      <td>27.2107</td>\n",
              "      <td>-6.4633</td>\n",
              "      <td>-7.1513</td>\n",
              "      <td>10.4490</td>\n",
              "      <td>116.7370</td>\n",
              "      <td>g</td>\n",
              "    </tr>\n",
              "    <tr>\n",
              "      <th>4</th>\n",
              "      <td>75.1362</td>\n",
              "      <td>30.9205</td>\n",
              "      <td>3.1611</td>\n",
              "      <td>0.3168</td>\n",
              "      <td>0.1832</td>\n",
              "      <td>-5.5277</td>\n",
              "      <td>28.5525</td>\n",
              "      <td>21.8393</td>\n",
              "      <td>4.6480</td>\n",
              "      <td>356.4620</td>\n",
              "      <td>g</td>\n",
              "    </tr>\n",
              "  </tbody>\n",
              "</table>\n",
              "</div>"
            ],
            "text/plain": [
              "     Length     Width    Size    Conc  ...  M3Trans    Alpha      Dist  class\n",
              "0   28.7967   16.0021  2.6449  0.3918  ...  -8.2027  40.0920   81.8828      g\n",
              "1   31.6036   11.7235  2.5185  0.5303  ...  -9.9574   6.3609  205.2610      g\n",
              "2  162.0520  136.0310  4.0612  0.0374  ... -45.2160  76.9600  256.7880      g\n",
              "3   23.8172    9.5728  2.3385  0.6147  ...  -7.1513  10.4490  116.7370      g\n",
              "4   75.1362   30.9205  3.1611  0.3168  ...  21.8393   4.6480  356.4620      g\n",
              "\n",
              "[5 rows x 11 columns]"
            ]
          },
          "metadata": {
            "tags": []
          },
          "execution_count": 2
        }
      ]
    },
    {
      "cell_type": "markdown",
      "metadata": {
        "id": "9BxOLmFAC6hh"
      },
      "source": [
        "# Постановка задачи\n",
        "\n",
        "Ваша задача заключается в том, чтобы с помощью генеративно-состязательных сетей научится генерировать параметры кластеров на изображениях телекопа для каждого типа частиц (фотона или адрона):\n",
        "\n",
        "- $X$ - матрица реальных объектов, которые нужно начиться генерировать;\n",
        "- $y$ - метки классов, которые будем использовать как условие при генерации."
      ]
    },
    {
      "cell_type": "code",
      "metadata": {
        "id": "m4rLhHxeC6hh"
      },
      "source": [
        "# параметры кластеров на изображениях\n",
        "X = data[names[:-1]].values\n",
        "X = np.abs(X)\n",
        "\n",
        "# метки классов\n",
        "labels = data[names[-1]].values\n",
        "y = np.ones((len(labels), 1))\n",
        "y[labels == 'h'] = 0"
      ],
      "execution_count": 3,
      "outputs": []
    },
    {
      "cell_type": "code",
      "metadata": {
        "colab": {
          "base_uri": "https://localhost:8080/"
        },
        "id": "FGlHz8FWC6hh",
        "outputId": "f5ec9f5c-4360-468f-c6f2-93ac6b0b21da"
      },
      "source": [
        "# примеры\n",
        "X[:2]"
      ],
      "execution_count": 4,
      "outputs": [
        {
          "output_type": "execute_result",
          "data": {
            "text/plain": [
              "array([[2.87967e+01, 1.60021e+01, 2.64490e+00, 3.91800e-01, 1.98200e-01,\n",
              "        2.77004e+01, 2.20110e+01, 8.20270e+00, 4.00920e+01, 8.18828e+01],\n",
              "       [3.16036e+01, 1.17235e+01, 2.51850e+00, 5.30300e-01, 3.77300e-01,\n",
              "        2.62722e+01, 2.38238e+01, 9.95740e+00, 6.36090e+00, 2.05261e+02]])"
            ]
          },
          "metadata": {
            "tags": []
          },
          "execution_count": 4
        }
      ]
    },
    {
      "cell_type": "code",
      "metadata": {
        "colab": {
          "base_uri": "https://localhost:8080/"
        },
        "id": "FNONo4O4C6hi",
        "outputId": "e7199a61-b672-4af9-fc43-6bc9a1311f80"
      },
      "source": [
        "# примеры\n",
        "y[:10]"
      ],
      "execution_count": 5,
      "outputs": [
        {
          "output_type": "execute_result",
          "data": {
            "text/plain": [
              "array([[1.],\n",
              "       [1.],\n",
              "       [1.],\n",
              "       [1.],\n",
              "       [1.],\n",
              "       [1.],\n",
              "       [1.],\n",
              "       [1.],\n",
              "       [1.],\n",
              "       [1.]])"
            ]
          },
          "metadata": {
            "tags": []
          },
          "execution_count": 5
        }
      ]
    },
    {
      "cell_type": "markdown",
      "metadata": {
        "id": "eQvIFYJwC6hi"
      },
      "source": [
        "# Визуализация данных"
      ]
    },
    {
      "cell_type": "markdown",
      "metadata": {
        "id": "5SeL8-qhC6hi"
      },
      "source": [
        "Каждое изображение описывается 10 параметрами. Давайте построим распделения значений каждого параметра для каждого типа частиц."
      ]
    },
    {
      "cell_type": "code",
      "metadata": {
        "id": "rrViXvKOC6hi"
      },
      "source": [
        "def plot_hists(X1, X2, names, label1, label2, bins=np.linspace(-3, 3, 61)):\n",
        "    plt.figure(figsize=(4*4, 4*2))\n",
        "    for i in range(X1.shape[1]):\n",
        "        plt.subplot(3, 4, i+1)\n",
        "        plt.hist(X1[:, i], bins=bins, alpha=0.5, label=label1, color='C0')\n",
        "        plt.hist(X2[:, i], bins=bins, alpha=0.5, label=label2, color='C1')\n",
        "        plt.xlabel(names[i], size=14)\n",
        "        plt.legend(loc='best')\n",
        "    plt.tight_layout()"
      ],
      "execution_count": 6,
      "outputs": []
    },
    {
      "cell_type": "code",
      "metadata": {
        "colab": {
          "base_uri": "https://localhost:8080/",
          "height": 583
        },
        "id": "sf2KQ_7HC6hj",
        "outputId": "f49bdc30-85d7-4035-b6b6-42cd5bf0b080"
      },
      "source": [
        "plot_hists(X[y[:, 0]==0], X[y[:, 0]==1], names, label1=\"Hadrons\", label2=\"Photons\", bins=50)"
      ],
      "execution_count": 7,
      "outputs": [
        {
          "output_type": "display_data",
          "data": {
            "image/png": "[encoded data removed]",
            "text/plain": [
              "<Figure size 1152x576 with 10 Axes>"
            ]
          },
          "metadata": {
            "tags": [],
            "needs_background": "light"
          }
        }
      ]
    },
    {
      "cell_type": "markdown",
      "metadata": {
        "id": "CSmP1KIlC6hj"
      },
      "source": [
        "# Предобработка данных"
      ]
    },
    {
      "cell_type": "markdown",
      "metadata": {
        "id": "qVhbtb1wC6hj"
      },
      "source": [
        "Из графика видим, что распределения для многих признаков имеют тяжелые хвосты. Это делает обучение генеративных моделей тяжелее. Поэтому, нужно как-то преобразовать данные, чтобы убрать эти тяжелые хвосты. "
      ]
    },
    {
      "cell_type": "markdown",
      "metadata": {
        "id": "icL-Ii97C6hj"
      },
      "source": [
        "## Задание 1 (1 балл)\n",
        "\n",
        "Используя функцию `sklearn.preprocessing.QuantileTransformer` трансформируйте входные данные `X`. Это преобразование делает так, чтобы распределение каждого параметра было нормальным. Описание функции доступно по ссылке http://scikit-learn.org/stable/modules/generated/sklearn.preprocessing.QuantileTransformer.html. Используйте значение параметра `output_distribution='normal'`. "
      ]
    },
    {
      "cell_type": "code",
      "metadata": {
        "id": "F1U0jd_aC6hk"
      },
      "source": [
        "from sklearn.preprocessing import QuantileTransformer"
      ],
      "execution_count": 8,
      "outputs": []
    },
    {
      "cell_type": "code",
      "metadata": {
        "colab": {
          "base_uri": "https://localhost:8080/"
        },
        "id": "GIwYL-4pC6hk",
        "outputId": "134eca1a-d745-4f80-8a92-70287cab12d4"
      },
      "source": [
        "### YOUR CODE IS HERE ######\n",
        "qt = QuantileTransformer(output_distribution='normal')\n",
        "X_qt = qt.fit_transform(X)\n",
        "X_qt\n",
        "### THE END OF YOUR CODE ###"
      ],
      "execution_count": 9,
      "outputs": [
        {
          "output_type": "execute_result",
          "data": {
            "text/plain": [
              "array([[-0.3717196 , -0.14839256, -0.2239158 , ..., -0.5006105 ,\n",
              "         0.54962862, -1.48529748],\n",
              "       [-0.22261854, -0.70361176, -0.55703565, ..., -0.17572013,\n",
              "        -0.5982885 ,  0.19288911],\n",
              "       [ 1.8378286 ,  2.77465556,  2.09907609, ...,  1.72291728,\n",
              "         1.48157354,  0.87737851],\n",
              "       ...,\n",
              "       [ 0.76045521,  1.46870868,  1.23242072, ..., -0.2681005 ,\n",
              "         0.33821842,  0.87365665],\n",
              "       [ 1.44980691,  1.94136292,  2.00283735, ...,  2.04917453,\n",
              "         1.88612706,  2.82247432],\n",
              "       [ 2.06269835,  1.55877902,  0.85393114, ...,  1.43722929,\n",
              "         0.82279699,  1.05393516]])"
            ]
          },
          "metadata": {
            "tags": []
          },
          "execution_count": 9
        }
      ]
    },
    {
      "cell_type": "code",
      "metadata": {
        "colab": {
          "base_uri": "https://localhost:8080/",
          "height": 583
        },
        "id": "UYc_t09UC6hk",
        "outputId": "abf4d0d9-4c8e-4f0c-808f-0dcd8b6e9101"
      },
      "source": [
        "plot_hists(X_qt[y[:, 0]==0], X_qt[y[:, 0]==1], names, label1=\"Hadrons\", label2=\"Photons\", bins=50)"
      ],
      "execution_count": 10,
      "outputs": [
        {
          "output_type": "display_data",
          "data": {
            "image/png": "[encoded data removed]",
            "text/plain": [
              "<Figure size 1152x576 with 10 Axes>"
            ]
          },
          "metadata": {
            "tags": [],
            "needs_background": "light"
          }
        }
      ]
    },
    {
      "cell_type": "markdown",
      "metadata": {
        "id": "BtGQJHq4C6hk"
      },
      "source": [
        "# Обучающая и тестовая выборки"
      ]
    },
    {
      "cell_type": "code",
      "metadata": {
        "id": "GFxLUatJC6hl"
      },
      "source": [
        "from sklearn.model_selection import train_test_split\n",
        "\n",
        "# train / test split\n",
        "X_train, X_test, y_train, y_test = train_test_split(X_qt, y, stratify=y, test_size=0.5, shuffle=True, random_state=11)"
      ],
      "execution_count": 11,
      "outputs": []
    },
    {
      "cell_type": "code",
      "metadata": {
        "colab": {
          "base_uri": "https://localhost:8080/",
          "height": 583
        },
        "id": "KAPwad3fC6hl",
        "outputId": "3c907be3-97ab-43e1-f63c-849e2b2f293b"
      },
      "source": [
        "plot_hists(X_train, X_test, names, label1=\"Train\", label2=\"Test\")"
      ],
      "execution_count": 12,
      "outputs": [
        {
          "output_type": "display_data",
          "data": {
            "image/png": "[encoded data removed]",
            "text/plain": [
              "<Figure size 1152x576 with 10 Axes>"
            ]
          },
          "metadata": {
            "tags": [],
            "needs_background": "light"
          }
        }
      ]
    },
    {
      "cell_type": "markdown",
      "metadata": {
        "id": "4-K560OIC6hl"
      },
      "source": [
        "# Conditional WGAN"
      ]
    },
    {
      "cell_type": "markdown",
      "metadata": {
        "id": "uv3dAggxC6hl"
      },
      "source": [
        "Мы будем использовать `Conditional WGAN`, который изображен на рисунке. В качестве условия `y` мы будем использовать метку класса: **0** - адрон, **1** - фотон. Таким образом, мы будем сообщать генератору для какой частицы нужно генерировать параметры изображения. \n",
        "\n",
        "<center><img src=\"https://github.com/aromana33/hw4_dl_2021/blob/main/img/cgan.png?raw=1\" width=\"800\"></center>"
      ]
    },
    {
      "cell_type": "markdown",
      "metadata": {
        "id": "155z5nYkC6hl"
      },
      "source": [
        "Генератор $\\hat{x} = G(z, y)$ будет принимать на вход шумовой вектор $z$ и вектор условий $y$, а выдавать будет сгенерированный (фейковый) вектор параметров $\\hat{x}$. \n",
        "\n",
        "Дискриминатор $D(x, y)$ будет принимать на вход вектор параметров $x$ и вектор условий $y$, а возвращать будет рациональное число.\n",
        "\n",
        "Обучать `Conditional WGAN` будем с такой функцией потерь:\n",
        "\n",
        "$$L(G, D) = -\\frac{1}{n} \\sum_{x_i \\in X, y_i \\in y} D(x_i, y_i) + -\\frac{1}{n} \\sum_{z_i \\in Z, y_i \\in y} D(G(z_i, y_i), y_i) \\to \\max_G \\min_D$$"
      ]
    },
    {
      "cell_type": "code",
      "metadata": {
        "id": "zVl_-kFcC6hm"
      },
      "source": [
        "import torch\n",
        "import torch.nn as nn\n",
        "import torch.nn.functional as F\n",
        "from torch.utils.data import TensorDataset, DataLoader\n",
        "from torch.autograd import Variable\n",
        "\n",
        "DEVICE = torch.device(\"cuda\" if torch.cuda.is_available() else \"cpu\")"
      ],
      "execution_count": 13,
      "outputs": []
    },
    {
      "cell_type": "code",
      "metadata": {
        "colab": {
          "base_uri": "https://localhost:8080/"
        },
        "id": "Csa2AXRZC6hm",
        "outputId": "98376655-b6a9-4b5f-bb33-1a0b262f385d"
      },
      "source": [
        "DEVICE"
      ],
      "execution_count": 14,
      "outputs": [
        {
          "output_type": "execute_result",
          "data": {
            "text/plain": [
              "device(type='cuda')"
            ]
          },
          "metadata": {
            "tags": []
          },
          "execution_count": 14
        }
      ]
    },
    {
      "cell_type": "markdown",
      "metadata": {
        "id": "zDEo1-HeC6hm"
      },
      "source": [
        "## Задание 2 (1 балл)\n",
        "\n",
        "Реализуйте нейронную сеть для генератора со следующими слоями:\n",
        "- Полносвязный слой со 100 нейронами;\n",
        "- Слой батч-нормализации;\n",
        "- ReLU функцию активации;\n",
        "- Полносвязный слой со 100 нейронами;\n",
        "- Слой батч-нормализации;\n",
        "- ReLU функцию активации;\n",
        "- Выходной слой.\n",
        "\n",
        "Подсказка: используйте функцию `nn.Sequential()`."
      ]
    },
    {
      "cell_type": "code",
      "metadata": {
        "id": "rLkfxBeAC6hm"
      },
      "source": [
        "class Generator(nn.Module):\n",
        "    \n",
        "    def __init__(self, n_inputs, n_outputs):\n",
        "        super(Generator, self).__init__()\n",
        "        \n",
        "        ### YOUR CODE IS HERE ######\n",
        "        self.net = nn.Sequential(\n",
        "            nn.Linear(n_inputs, 100),\n",
        "            nn.BatchNorm1d(),\n",
        "            nn.ReLU(),\n",
        "            nn.Linear(100, 100),\n",
        "            nn.BatchNorm1d(),\n",
        "            nn.ReLU(),\n",
        "            nn.Linear(100, n_outputs)\n",
        "        )\n",
        "        ### THE END OF YOUR CODE ###\n",
        "\n",
        "    def forward(self, z, y):\n",
        "        zy = torch.cat((z, y), dim=1)\n",
        "        return self.net(zy)"
      ],
      "execution_count": 15,
      "outputs": []
    },
    {
      "cell_type": "markdown",
      "metadata": {
        "id": "Nltjpri5C6hn"
      },
      "source": [
        "## Задание 3 (1 балл)\n",
        "\n",
        "Реализуйте нейронную сеть для дискриминатора со следующими слоями:\n",
        "- Полносвязный слой со 100 нейронами;\n",
        "- ReLU функцию активации;\n",
        "- Полносвязный слой со 100 нейронами;\n",
        "- ReLU функцию активации;\n",
        "- Выходной слой.\n",
        "\n",
        "Подсказка: используйте функцию `nn.Sequential()`."
      ]
    },
    {
      "cell_type": "code",
      "metadata": {
        "id": "55qvg1M2C6hn"
      },
      "source": [
        "class Discriminator(nn.Module):\n",
        "    \n",
        "    def __init__(self, n_inputs):\n",
        "        super(Discriminator, self).__init__()\n",
        "        \n",
        "        ### YOUR CODE IS HERE ######\n",
        "        self.net = nn.Sequential(\n",
        "            nn.Linear(n_inputs, 100),\n",
        "            nn.ReLU(),\n",
        "            nn.Linear(100, 100),\n",
        "            nn.ReLU(),\n",
        "            nn.Linear(100, 1)\n",
        "        )\n",
        "        ### THE END OF YOUR CODE ###\n",
        "\n",
        "    def forward(self, x, y):\n",
        "        xy = torch.cat((x, y), dim=1)\n",
        "        return self.net(xy)"
      ],
      "execution_count": 16,
      "outputs": []
    },
    {
      "cell_type": "markdown",
      "metadata": {
        "id": "yEMoefA_C6hn"
      },
      "source": [
        "## Задание 4 (2 балла)\n",
        "\n",
        "Реализуйте класс для обучения генеративной модели.\n",
        "\n",
        "- Подсказка 1: не забывайте ограничивать веса дискриминатора. Для этого используйте `p.data.clamp_(-0.01, 0.01)`, где `p` веса дискриминатора.\n",
        "- Подсказка 2: `n_critic` - число итераций обучения дискриминатора на одну итерацию обучения генератора.\n",
        "- Подсказка 3: Используйте `X_tensor = torch.tensor(X_numpy, dtype=torch.float, device=DEVICE)` для перевода numpy в тензор."
      ]
    },
    {
      "cell_type": "code",
      "metadata": {
        "colab": {
          "base_uri": "https://localhost:8080/"
        },
        "id": "DZZj3FLPSIRm",
        "outputId": "5ce05713-e170-411b-94e5-ac72f2d39503"
      },
      "source": [
        "torch.distributions.Normal(torch.zeros(2).cuda(), torch.ones(2).cuda())"
      ],
      "execution_count": null,
      "outputs": [
        {
          "output_type": "execute_result",
          "data": {
            "text/plain": [
              "Normal(loc: torch.Size([2]), scale: torch.Size([2]))"
            ]
          },
          "metadata": {
            "tags": []
          },
          "execution_count": 38
        }
      ]
    },
    {
      "cell_type": "code",
      "metadata": {
        "id": "Vbi3cn4zC6hn"
      },
      "source": [
        "class Fitter(object):\n",
        "    \n",
        "    def __init__(self, generator, discriminator, batch_size=32, n_epochs=10, latent_dim=1, lr=0.0001, n_critic=5):\n",
        "        \n",
        "        self.generator = generator\n",
        "        self.discriminator = discriminator\n",
        "        self.batch_size = batch_size\n",
        "        self.n_epochs = n_epochs\n",
        "        self.latent_dim = latent_dim\n",
        "        self.lr = lr\n",
        "        self.n_critic = n_critic\n",
        "        \n",
        "        self.opt_gen  = torch.optim.RMSprop(self.generator.parameters(), lr=self.lr)\n",
        "        self.opt_disc = torch.optim.RMSprop(self.discriminator.parameters(), lr=self.lr)\n",
        "        \n",
        "        self.generator.to(DEVICE)\n",
        "        self.discriminator.to(DEVICE)\n",
        "    \n",
        "    \n",
        "    def fit(self, X, y):\n",
        "        \n",
        "        # numpy to tensor\n",
        "        X_real = torch.tensor(X, dtype=torch.float, device=DEVICE)\n",
        "        y_cond = torch.tensor(y, dtype=torch.float, device=DEVICE)\n",
        "        \n",
        "        # tensor to dataset\n",
        "        dataset_real = TensorDataset(X_real, y_cond)\n",
        "        \n",
        "        # Turn on training\n",
        "        self.generator.train(True)\n",
        "        self.discriminator.train(True)\n",
        "        \n",
        "        self.loss_history = []\n",
        "\n",
        "        # Fit GAN\n",
        "        for epoch in range(self.n_epochs):\n",
        "            for i, (real_batch, cond_batch) in enumerate(DataLoader(dataset_real, batch_size=self.batch_size, shuffle=True)):\n",
        "                \n",
        "                ### YOUR CODE IS HERE ######\n",
        "                real_objects, y = real_batch, cond_batch\n",
        "                real_objects = real_objects.to(device)\n",
        "                y = y.to(device)\n",
        "\n",
        "                prior = torch.distributions.Normal(torch.zeros(2).cuda(), torch.ones(2).cuda())\n",
        "                num_objects = real_objects.shape[0]\n",
        "                z = prior.sample((num_objects, ))\n",
        "                gen_objects = gen(z, y)\n",
        "\n",
        "                # считаем скоры\n",
        "                real_objects_scores, gen_objects_scores = torch.split(discr(\n",
        "                    torch.cat([real_objects, gen_objects], dim=0), \n",
        "                    torch.cat([y, y], dim=0)), num_objects)\n",
        "\n",
        "\n",
        "                    \n",
        "                ### THE END OF YOUR CODE ###\n",
        "                    \n",
        "            # caiculate and store loss after an epoch\n",
        "            Z_noise = torch.normal(0, 1, (len(X_real), self.latent_dim))\n",
        "            X_fake = self.generator(Z_noise, y_cond)\n",
        "            loss_epoch = torch.mean(self.discriminator(X_real, y_cond)) - torch.mean(self.discriminator(X_fake, y_cond))\n",
        "            self.loss_history.append(loss_epoch.detach().cpu())\n",
        "                    \n",
        "        # Turn off training\n",
        "        self.generator.train(False)\n",
        "        self.discriminator.train(False)"
      ],
      "execution_count": null,
      "outputs": []
    },
    {
      "cell_type": "markdown",
      "metadata": {
        "id": "eQqy7xAxC6hn"
      },
      "source": [
        "## Обучение\n",
        "Обучим модель на данных."
      ]
    },
    {
      "cell_type": "code",
      "metadata": {
        "id": "Xjj5eJB7C6ho"
      },
      "source": [
        "%%time\n",
        "latent_dim = 10\n",
        "generator     = Generator(n_inputs=latent_dim+y.shape[1], \n",
        "                          n_outputs=X_train.shape[1])\n",
        "discriminator = Discriminator(n_inputs=X_train.shape[1]+y.shape[1])\n",
        "\n",
        "fitter = Fitter(generator, discriminator, batch_size=50, n_epochs=100, latent_dim=latent_dim, lr=0.0001, n_critic=5)\n",
        "fitter.fit(X_train, y_train)"
      ],
      "execution_count": null,
      "outputs": []
    },
    {
      "cell_type": "code",
      "metadata": {
        "id": "IHv8F2SNC6ho"
      },
      "source": [
        "# WGAN learning curve\n",
        "plt.figure(figsize=(9, 5))\n",
        "plt.plot(fitter.loss_history)\n",
        "plt.xlabel(\"Epoch Number\", size=14)\n",
        "plt.ylabel(\"Loss Function\", size=14)\n",
        "plt.xticks(size=14)\n",
        "plt.yticks(size=14)\n",
        "plt.title(\"Conditional WGAN Learning Curve\", size=14)\n",
        "plt.grid(b=1, linestyle='--', linewidth=0.5, color='0.5')\n",
        "plt.show()"
      ],
      "execution_count": null,
      "outputs": []
    },
    {
      "cell_type": "markdown",
      "metadata": {
        "id": "ZjvrKuEgC6ho"
      },
      "source": [
        "## Задание 5 (1 балл)\n",
        "\n",
        "Реализуйте функцию для генерации новый объектов $X$ по вектору условий $y$."
      ]
    },
    {
      "cell_type": "code",
      "metadata": {
        "id": "f_m8vk6BC6ho"
      },
      "source": [
        "def generate(generator, y, latent_dim):\n",
        "    ### YOUR CODE IS HERE ######\n",
        "    \n",
        "    X_fake = \n",
        "    ### THE END OF YOUR CODE ###\n",
        "    return X_fake # numpy"
      ],
      "execution_count": null,
      "outputs": []
    },
    {
      "cell_type": "markdown",
      "metadata": {
        "id": "xrrT1y86C6ho"
      },
      "source": [
        "Теперь сгенерируем фейковые матрицы `X_fake_train` и `X_fake_test`. Сравним их с матрицами реальных объектов `X_train` и `X_test`"
      ]
    },
    {
      "cell_type": "code",
      "metadata": {
        "id": "yPEKx36_C6hp"
      },
      "source": [
        "X_fake_train = generate(fitter.generator, y_train, latent_dim)"
      ],
      "execution_count": null,
      "outputs": []
    },
    {
      "cell_type": "code",
      "metadata": {
        "id": "9Yamgs7BC6hp"
      },
      "source": [
        "plot_hists(X_train, X_fake_train, names, label1=\"Real\", label2=\"Fake\", bins=50)"
      ],
      "execution_count": null,
      "outputs": []
    },
    {
      "cell_type": "code",
      "metadata": {
        "id": "kqTiqzSsC6hp"
      },
      "source": [
        "X_fake_test = generate(fitter.generator, y_test, latent_dim)"
      ],
      "execution_count": null,
      "outputs": []
    },
    {
      "cell_type": "code",
      "metadata": {
        "id": "rht0t_BwC6hp"
      },
      "source": [
        "plot_hists(X_test, X_fake_test, names, label1=\"Real\", label2=\"Fake\", bins=50)"
      ],
      "execution_count": null,
      "outputs": []
    },
    {
      "cell_type": "markdown",
      "metadata": {
        "id": "a3NfY9LLC6hp"
      },
      "source": [
        "## Вывод 1: \n",
        "Визуально мы видим сходство реальных и фейковых данных. Однако это только проекции 10-мерных объектов на одну ось."
      ]
    },
    {
      "cell_type": "markdown",
      "metadata": {
        "id": "dyhsE2kPC6hp"
      },
      "source": [
        "# Измерение качества генерации\n",
        "\n",
        "<center><img src=\"https://github.com/aromana33/hw4_dl_2021/blob/main/img/clf.png?raw=1\" width=\"600\"></center>\n",
        "\n",
        "Измерим сходство распределений классификатором."
      ]
    },
    {
      "cell_type": "code",
      "metadata": {
        "id": "acrQzHKJC6hq"
      },
      "source": [
        "# собираем реальный и фейковые матрицы в одну\n",
        "XX_train = np.concatenate((X_fake_train, X_train), axis=0)\n",
        "XX_test = np.concatenate((X_fake_test, X_test), axis=0)\n",
        "\n",
        "yy_train = np.array([0]*len(X_fake_train) + [1]*len(X_train))\n",
        "yy_test = np.array([0]*len(X_fake_test) + [1]*len(X_test))"
      ],
      "execution_count": null,
      "outputs": []
    },
    {
      "cell_type": "code",
      "metadata": {
        "id": "E6Cb0hqxC6hq"
      },
      "source": [
        "from sklearn.ensemble import GradientBoostingClassifier\n",
        "\n",
        "# обучаем классификатор\n",
        "clf = GradientBoostingClassifier()\n",
        "clf.fit(XX_train, yy_train)\n",
        "\n",
        "# получаем прогнозы\n",
        "yy_test_proba = clf.predict_proba(XX_test)[:, 1]"
      ],
      "execution_count": null,
      "outputs": []
    },
    {
      "cell_type": "code",
      "metadata": {
        "id": "ZVZPUCurC6hq"
      },
      "source": [
        "from sklearn.metrics import roc_auc_score\n",
        "\n",
        "auc = roc_auc_score(yy_test, yy_test_proba)\n",
        "print(\"ROC AUC = \", auc)"
      ],
      "execution_count": null,
      "outputs": []
    },
    {
      "cell_type": "markdown",
      "metadata": {
        "id": "Z8atgDnYC6hq"
      },
      "source": [
        "## Вывод 2\n",
        "\n",
        "Идеальное значение ROC AUC равно 0.5. Это соответствует случаю, когда классификатор не может разделить реальные и фейковые данные. В нашем случае ROC AUC около 0.7, что говорит о том, что есть куда улучшать качество генеративной модели :)"
      ]
    },
    {
      "cell_type": "markdown",
      "metadata": {
        "id": "pX1EdCjAC6hq"
      },
      "source": [
        "# Условные вариационные автокодировщики"
      ]
    },
    {
      "cell_type": "markdown",
      "metadata": {
        "id": "q-7nPiBxC6hq"
      },
      "source": [
        "<center><img src=\"https://github.com/aromana33/hw4_dl_2021/blob/main/img/cvae.svg?raw=1\" width=\"600\"></center>\n",
        "\n",
        "Теперь, решим эту же задачу используя условный автокодировщик (CVAE). Пользуясь вашим семинаром по теме вариационных автокодировщиков выполните следующие задания."
      ]
    },
    {
      "cell_type": "markdown",
      "metadata": {
        "id": "HBDvVqgUC6hr"
      },
      "source": [
        "## Задание 6 (1 балл)\n",
        "\n",
        "Реализуйте нейронную сеть для декодеровщика со следующими слоями:\n",
        "- Полносвязный слой со 100 нейронами;\n",
        "- Слой батч-нормализации;\n",
        "- ReLU функцию активации;\n",
        "- Полносвязный слой со 100 нейронами;\n",
        "- Слой батч-нормализации;\n",
        "- ReLU функцию активации;\n",
        "- Выходной слой для mu; Выходной слой для log_sigma;\n",
        "\n",
        "Подсказка: используйте функцию `nn.Sequential()`."
      ]
    },
    {
      "cell_type": "code",
      "metadata": {
        "id": "4-9obWMBC6hr"
      },
      "source": [
        "class Encoder(nn.Module):\n",
        "    def __init__(self, n_inputs, lat_size):\n",
        "        super(Encoder, self).__init__()\n",
        "        \n",
        "        ### YOUR CODE IS HERE ######\n",
        "        self.enc_net = nn.Sequentional(\n",
        "            nn.Linear(n_inputs, 100),\n",
        "            nn.BatchNorm1d(),\n",
        "            nn.ReLU(),\n",
        "            nn.Linear(100, 100),\n",
        "            nn.BatchNorm1d(),\n",
        "            nn.ReLU()\n",
        "        )\n",
        "        self.mu = nn.Linear(100, self.lat_size)\n",
        "        self.log_sigma = nn.Linear(100, self.lat_size)\n",
        "\n",
        "        ### THE END OF YOUR CODE ###\n",
        "        \n",
        "    def forward(self, x, y):\n",
        "        z = torch.cat((x, y), dim=1)\n",
        "        z = self.enc_net(z)\n",
        "        mu = self.mu(z)\n",
        "        log_sigma = self.log_sigma(z)\n",
        "        return mu, log_sigma "
      ],
      "execution_count": null,
      "outputs": []
    },
    {
      "cell_type": "markdown",
      "metadata": {
        "id": "VaeGcQ0yC6hr"
      },
      "source": [
        "## Задание 7 (1 балл)\n",
        "\n",
        "Реализуйте нейронную сеть для декодеровщика со следующими слоями:\n",
        "- Полносвязный слой со 100 нейронами;\n",
        "- ReLU функцию активации;\n",
        "- Полносвязный слой со 100 нейронами;\n",
        "- ReLU функцию активации;\n",
        "- Выходной слой.\n",
        "\n",
        "Подсказка: используйте функцию `nn.Sequential()`."
      ]
    },
    {
      "cell_type": "code",
      "metadata": {
        "id": "WxRd8qffC6hr"
      },
      "source": [
        "class Decoder(nn.Module):\n",
        "    def __init__(self, n_inputs, n_outputs):\n",
        "        super(Decoder, self).__init__()\n",
        "        \n",
        "        ### YOUR CODE IS HERE ######\n",
        "        self.dec_net = nn.Sequentional(\n",
        "            nn.Linear(n_inputs, 100),\n",
        "            nn.BatchNorm1d(),\n",
        "            nn.ReLU(),\n",
        "            nn.Linear(100, 100),\n",
        "            nn.BatchNorm1d(),\n",
        "            nn.ReLU(),\n",
        "            nn.Linear(100, n_outputs)\n",
        "        )\n",
        "        ### THE END OF YOUR CODE ###\n",
        "        \n",
        "    def forward(self, z, y):\n",
        "        z_cond = torch.cat((z, y), dim=1)\n",
        "        x_rec = self.dec_net(z_cond)\n",
        "        return x_rec"
      ],
      "execution_count": null,
      "outputs": []
    },
    {
      "cell_type": "markdown",
      "metadata": {
        "id": "61O7MTpxC6hr"
      },
      "source": [
        "## Задание 8 (1 балл)\n",
        "\n",
        "Реализуйте класс для обучения вариационного автокодировщика.\n",
        "\n",
        "Подсказка: Используйте `X_tensor = torch.tensor(X_numpy, dtype=torch.float, device=DEVICE)` для перевода numpy в тензор."
      ]
    },
    {
      "cell_type": "code",
      "metadata": {
        "id": "cd_GS51eC6hs"
      },
      "source": [
        "class VAEFitter(object):\n",
        "    \n",
        "    def __init__(self, encoder, decoder, batch_size=32, n_epochs=10, latent_dim=1, lr=0.0001, KL_weight=0.001):\n",
        "        \n",
        "        self.encoder = encoder\n",
        "        self.decoder = decoder\n",
        "        self.batch_size = batch_size\n",
        "        self.n_epochs = n_epochs\n",
        "        self.latent_dim = latent_dim\n",
        "        self.lr = lr\n",
        "        self.KL_weight = KL_weight\n",
        "        \n",
        "        self.criterion = nn.MSELoss()\n",
        "        self.opt  = torch.optim.RMSprop(list(self.encoder.parameters()) + list(self.decoder.parameters()), lr=self.lr)\n",
        "        \n",
        "        self.encoder.to(DEVICE)\n",
        "        self.decoder.to(DEVICE)\n",
        "        \n",
        "        \n",
        "    def sample_z(self, mu, log_sigma):\n",
        "        eps = torch.randn(mu.shape).to(DEVICE)\n",
        "        return mu + torch.exp(log_sigma / 2) * eps\n",
        "    \n",
        "    def custom_loss(self, x, rec_x, mu, log_sigma):\n",
        "        KL = torch.mean(-0.5 * torch.sum(1 + log_sigma - mu ** 2 - log_sigma.exp(), dim = 1), dim = 0)\n",
        "        recon_loss = self.criterion(x, rec_x)\n",
        "        return KL*self.KL_weight + recon_loss\n",
        "    \n",
        "    \n",
        "    def compute_loss(self, x_batch, cond_batch):\n",
        "        \n",
        "        ### YOUR CODE IS HERE ######\n",
        "        mu, loq_sigma = x_batch, cond_batch\n",
        "        z = self.sample_z(mu, log_sigma)\n",
        "        rec_x = self.decode(z)\n",
        "        \n",
        "        loss = self.custom_loss(x, rec_x, z, mu, log_sigma)\n",
        "        ### THE END OF YOUR CODE ###\n",
        "        \n",
        "        return loss\n",
        "    \n",
        "    \n",
        "    def fit(self, X, y):\n",
        "        \n",
        "        # numpy to tensor\n",
        "        X_real = torch.tensor(X, dtype=torch.float, device=DEVICE)\n",
        "        y_cond = torch.tensor(y, dtype=torch.float, device=DEVICE)\n",
        "        \n",
        "        # tensor to dataset\n",
        "        dataset_real = TensorDataset(X_real, y_cond)\n",
        "        \n",
        "        # Turn on training\n",
        "        self.encoder.train(True)\n",
        "        self.decoder.train(True)\n",
        "        \n",
        "        self.loss_history = []\n",
        "\n",
        "        # Fit GAN\n",
        "        for epoch in range(self.n_epochs):\n",
        "            for i, (x_batch, cond_batch) in enumerate(DataLoader(dataset_real, batch_size=self.batch_size, shuffle=True)):\n",
        "                \n",
        "                # caiculate loss\n",
        "                loss = self.compute_loss(x_batch, cond_batch)\n",
        "                \n",
        "                # optimization step\n",
        "                self.opt.zero_grad()\n",
        "                loss.backward()\n",
        "                self.opt.step()\n",
        "                    \n",
        "            # caiculate and store loss after an epoch\n",
        "            loss_epoch = self.compute_loss(X_real, y_cond)\n",
        "            self.loss_history.append(loss_epoch.detach().cpu())\n",
        "                    \n",
        "        # Turn off training\n",
        "        self.encoder.train(False)\n",
        "        self.decoder.train(False)"
      ],
      "execution_count": null,
      "outputs": []
    },
    {
      "cell_type": "markdown",
      "metadata": {
        "id": "clCg6XcqC6hs"
      },
      "source": [
        "## Обучение\n",
        "Обучим модель на данных."
      ]
    },
    {
      "cell_type": "code",
      "metadata": {
        "colab": {
          "base_uri": "https://localhost:8080/",
          "height": 397
        },
        "id": "hiOYpSuvC6ht",
        "outputId": "a1943fbf-2b0c-470a-8342-52b007e7b514"
      },
      "source": [
        "%%time\n",
        "\n",
        "latent_dim = 10\n",
        "\n",
        "encoder = Encoder(n_inputs=X_train.shape[1]+y.shape[1], lat_size=latent_dim)\n",
        "decoder = Decoder(n_inputs=latent_dim+y.shape[1], n_outputs=X_train.shape[1])\n",
        "\n",
        "vae_fitter = VAEFitter(encoder, decoder, batch_size=50, n_epochs=100, latent_dim=latent_dim, lr=0.001, KL_weight=0.001)\n",
        "vae_fitter.fit(X_train, y_train)"
      ],
      "execution_count": null,
      "outputs": [
        {
          "output_type": "error",
          "ename": "NameError",
          "evalue": "ignored",
          "traceback": [
            "\u001b[0;31m---------------------------------------------------------------------------\u001b[0m",
            "\u001b[0;31mNameError\u001b[0m                                 Traceback (most recent call last)",
            "\u001b[0;32m<ipython-input-10-5925b7d6f7ed>\u001b[0m in \u001b[0;36m<module>\u001b[0;34m()\u001b[0m\n\u001b[0;32m----> 1\u001b[0;31m \u001b[0mget_ipython\u001b[0m\u001b[0;34m(\u001b[0m\u001b[0;34m)\u001b[0m\u001b[0;34m.\u001b[0m\u001b[0mrun_cell_magic\u001b[0m\u001b[0;34m(\u001b[0m\u001b[0;34m'time'\u001b[0m\u001b[0;34m,\u001b[0m \u001b[0;34m''\u001b[0m\u001b[0;34m,\u001b[0m \u001b[0;34m'\\nlatent_dim = 10\\n\\nencoder = Encoder(n_inputs=X_train.shape[1]+y.shape[1], lat_size=latent_dim)\\ndecoder = Decoder(n_inputs=latent_dim+y.shape[1], n_outputs=X_train.shape[1])\\n\\nvae_fitter = VAEFitter(encoder, decoder, batch_size=50, n_epochs=100, latent_dim=latent_dim, lr=0.001, KL_weight=0.001)\\nvae_fitter.fit(X_train, y_train)'\u001b[0m\u001b[0;34m)\u001b[0m\u001b[0;34m\u001b[0m\u001b[0;34m\u001b[0m\u001b[0m\n\u001b[0m",
            "\u001b[0;32m/usr/local/lib/python3.7/dist-packages/IPython/core/interactiveshell.py\u001b[0m in \u001b[0;36mrun_cell_magic\u001b[0;34m(self, magic_name, line, cell)\u001b[0m\n\u001b[1;32m   2115\u001b[0m             \u001b[0mmagic_arg_s\u001b[0m \u001b[0;34m=\u001b[0m \u001b[0mself\u001b[0m\u001b[0;34m.\u001b[0m\u001b[0mvar_expand\u001b[0m\u001b[0;34m(\u001b[0m\u001b[0mline\u001b[0m\u001b[0;34m,\u001b[0m \u001b[0mstack_depth\u001b[0m\u001b[0;34m)\u001b[0m\u001b[0;34m\u001b[0m\u001b[0;34m\u001b[0m\u001b[0m\n\u001b[1;32m   2116\u001b[0m             \u001b[0;32mwith\u001b[0m \u001b[0mself\u001b[0m\u001b[0;34m.\u001b[0m\u001b[0mbuiltin_trap\u001b[0m\u001b[0;34m:\u001b[0m\u001b[0;34m\u001b[0m\u001b[0;34m\u001b[0m\u001b[0m\n\u001b[0;32m-> 2117\u001b[0;31m                 \u001b[0mresult\u001b[0m \u001b[0;34m=\u001b[0m \u001b[0mfn\u001b[0m\u001b[0;34m(\u001b[0m\u001b[0mmagic_arg_s\u001b[0m\u001b[0;34m,\u001b[0m \u001b[0mcell\u001b[0m\u001b[0;34m)\u001b[0m\u001b[0;34m\u001b[0m\u001b[0;34m\u001b[0m\u001b[0m\n\u001b[0m\u001b[1;32m   2118\u001b[0m             \u001b[0;32mreturn\u001b[0m \u001b[0mresult\u001b[0m\u001b[0;34m\u001b[0m\u001b[0;34m\u001b[0m\u001b[0m\n\u001b[1;32m   2119\u001b[0m \u001b[0;34m\u001b[0m\u001b[0m\n",
            "\u001b[0;32m<decorator-gen-53>\u001b[0m in \u001b[0;36mtime\u001b[0;34m(self, line, cell, local_ns)\u001b[0m\n",
            "\u001b[0;32m/usr/local/lib/python3.7/dist-packages/IPython/core/magic.py\u001b[0m in \u001b[0;36m<lambda>\u001b[0;34m(f, *a, **k)\u001b[0m\n\u001b[1;32m    186\u001b[0m     \u001b[0;31m# but it's overkill for just that one bit of state.\u001b[0m\u001b[0;34m\u001b[0m\u001b[0;34m\u001b[0m\u001b[0;34m\u001b[0m\u001b[0m\n\u001b[1;32m    187\u001b[0m     \u001b[0;32mdef\u001b[0m \u001b[0mmagic_deco\u001b[0m\u001b[0;34m(\u001b[0m\u001b[0marg\u001b[0m\u001b[0;34m)\u001b[0m\u001b[0;34m:\u001b[0m\u001b[0;34m\u001b[0m\u001b[0;34m\u001b[0m\u001b[0m\n\u001b[0;32m--> 188\u001b[0;31m         \u001b[0mcall\u001b[0m \u001b[0;34m=\u001b[0m \u001b[0;32mlambda\u001b[0m \u001b[0mf\u001b[0m\u001b[0;34m,\u001b[0m \u001b[0;34m*\u001b[0m\u001b[0ma\u001b[0m\u001b[0;34m,\u001b[0m \u001b[0;34m**\u001b[0m\u001b[0mk\u001b[0m\u001b[0;34m:\u001b[0m \u001b[0mf\u001b[0m\u001b[0;34m(\u001b[0m\u001b[0;34m*\u001b[0m\u001b[0ma\u001b[0m\u001b[0;34m,\u001b[0m \u001b[0;34m**\u001b[0m\u001b[0mk\u001b[0m\u001b[0;34m)\u001b[0m\u001b[0;34m\u001b[0m\u001b[0;34m\u001b[0m\u001b[0m\n\u001b[0m\u001b[1;32m    189\u001b[0m \u001b[0;34m\u001b[0m\u001b[0m\n\u001b[1;32m    190\u001b[0m         \u001b[0;32mif\u001b[0m \u001b[0mcallable\u001b[0m\u001b[0;34m(\u001b[0m\u001b[0marg\u001b[0m\u001b[0;34m)\u001b[0m\u001b[0;34m:\u001b[0m\u001b[0;34m\u001b[0m\u001b[0;34m\u001b[0m\u001b[0m\n",
            "\u001b[0;32m/usr/local/lib/python3.7/dist-packages/IPython/core/magics/execution.py\u001b[0m in \u001b[0;36mtime\u001b[0;34m(self, line, cell, local_ns)\u001b[0m\n\u001b[1;32m   1191\u001b[0m         \u001b[0;32melse\u001b[0m\u001b[0;34m:\u001b[0m\u001b[0;34m\u001b[0m\u001b[0;34m\u001b[0m\u001b[0m\n\u001b[1;32m   1192\u001b[0m             \u001b[0mst\u001b[0m \u001b[0;34m=\u001b[0m \u001b[0mclock2\u001b[0m\u001b[0;34m(\u001b[0m\u001b[0;34m)\u001b[0m\u001b[0;34m\u001b[0m\u001b[0;34m\u001b[0m\u001b[0m\n\u001b[0;32m-> 1193\u001b[0;31m             \u001b[0mexec\u001b[0m\u001b[0;34m(\u001b[0m\u001b[0mcode\u001b[0m\u001b[0;34m,\u001b[0m \u001b[0mglob\u001b[0m\u001b[0;34m,\u001b[0m \u001b[0mlocal_ns\u001b[0m\u001b[0;34m)\u001b[0m\u001b[0;34m\u001b[0m\u001b[0;34m\u001b[0m\u001b[0m\n\u001b[0m\u001b[1;32m   1194\u001b[0m             \u001b[0mend\u001b[0m \u001b[0;34m=\u001b[0m \u001b[0mclock2\u001b[0m\u001b[0;34m(\u001b[0m\u001b[0;34m)\u001b[0m\u001b[0;34m\u001b[0m\u001b[0;34m\u001b[0m\u001b[0m\n\u001b[1;32m   1195\u001b[0m             \u001b[0mout\u001b[0m \u001b[0;34m=\u001b[0m \u001b[0;32mNone\u001b[0m\u001b[0;34m\u001b[0m\u001b[0;34m\u001b[0m\u001b[0m\n",
            "\u001b[0;32m<timed exec>\u001b[0m in \u001b[0;36m<module>\u001b[0;34m()\u001b[0m\n",
            "\u001b[0;31mNameError\u001b[0m: name 'X_train' is not defined"
          ]
        }
      ]
    },
    {
      "cell_type": "code",
      "metadata": {
        "id": "viV8YJcmC6ht"
      },
      "source": [
        "# WGAN learning curve\n",
        "plt.figure(figsize=(9, 5))\n",
        "plt.plot(vae_fitter.loss_history)\n",
        "plt.xlabel(\"Epoch Number\", size=14)\n",
        "plt.ylabel(\"Loss Function\", size=14)\n",
        "plt.xticks(size=14)\n",
        "plt.yticks(size=14)\n",
        "plt.title(\"Conditional VAE Learning Curve\", size=14)\n",
        "plt.grid(b=1, linestyle='--', linewidth=0.5, color='0.5')\n",
        "plt.show()"
      ],
      "execution_count": null,
      "outputs": []
    },
    {
      "cell_type": "markdown",
      "metadata": {
        "id": "IHcGUNgiC6ht"
      },
      "source": [
        "## Задание 9 (1 балл)\n",
        "\n",
        "Реализуйте функцию для генерации новый объектов $X$ по вектору условий $y$."
      ]
    },
    {
      "cell_type": "code",
      "metadata": {
        "id": "7626t5gqC6ht"
      },
      "source": [
        "def generate(decoder, y, latent_dim):\n",
        "    ### YOUR CODE IS HERE ######\n",
        "    z = torch.normal(0, 1, (len(y), latent_dim), device=DEVICE)\n",
        "    X_fake = generator(z, torch.tensor(y, dtype=torch.float, device=DEVICE))\n",
        "    ### THE END OF YOUR CODE ###\n",
        "    return X_fake.cpu().detach().numpy()"
      ],
      "execution_count": null,
      "outputs": []
    },
    {
      "cell_type": "markdown",
      "metadata": {
        "id": "oyauLBnkC6ht"
      },
      "source": [
        "Теперь сгенерируем фейковые матрицы `X_fake_train` и `X_fake_test`. Сравним их с матрицами реальных объектов `X_train` и `X_test`"
      ]
    },
    {
      "cell_type": "code",
      "metadata": {
        "id": "TgsCOXErC6hu"
      },
      "source": [
        "X_fake_train = generate(vae_fitter.decoder, y_train, latent_dim)"
      ],
      "execution_count": null,
      "outputs": []
    },
    {
      "cell_type": "code",
      "metadata": {
        "id": "ZdOgFPXcC6hu"
      },
      "source": [
        "plot_hists(X_train, X_fake_train, names, label1=\"Real\", label2=\"Fake\", bins=50)"
      ],
      "execution_count": null,
      "outputs": []
    },
    {
      "cell_type": "code",
      "metadata": {
        "id": "z2yiLwR8C6hu"
      },
      "source": [
        "X_fake_test = generate(vae_fitter.decoder, y_test, latent_dim)"
      ],
      "execution_count": null,
      "outputs": []
    },
    {
      "cell_type": "code",
      "metadata": {
        "id": "a3XCr86EC6hu"
      },
      "source": [
        "plot_hists(X_test, X_fake_test, names, label1=\"Real\", label2=\"Fake\", bins=50)"
      ],
      "execution_count": null,
      "outputs": []
    },
    {
      "cell_type": "markdown",
      "metadata": {
        "id": "lYDCBlilC6hu"
      },
      "source": [
        "# Измерение качества генерации\n",
        "\n",
        "Измерим сходство распределений классификатором."
      ]
    },
    {
      "cell_type": "code",
      "metadata": {
        "id": "zrww0ulSC6hu"
      },
      "source": [
        "# собираем реальный и фейковые матрицы в одну\n",
        "XX_train = np.concatenate((X_fake_train, X_train), axis=0)\n",
        "XX_test = np.concatenate((X_fake_test, X_test), axis=0)\n",
        "\n",
        "yy_train = np.array([0]*len(X_fake_train) + [1]*len(X_train))\n",
        "yy_test = np.array([0]*len(X_fake_test) + [1]*len(X_test))"
      ],
      "execution_count": null,
      "outputs": []
    },
    {
      "cell_type": "code",
      "metadata": {
        "id": "rFdetZkZC6hu"
      },
      "source": [
        "from sklearn.ensemble import GradientBoostingClassifier\n",
        "\n",
        "# обучаем классификатор\n",
        "clf = GradientBoostingClassifier()\n",
        "clf.fit(XX_train, yy_train)\n",
        "\n",
        "# получаем прогнозы\n",
        "yy_test_proba = clf.predict_proba(XX_test)[:, 1]"
      ],
      "execution_count": null,
      "outputs": []
    },
    {
      "cell_type": "code",
      "metadata": {
        "id": "OuotyrlnC6hv"
      },
      "source": [
        "from sklearn.metrics import roc_auc_score\n",
        "\n",
        "auc = roc_auc_score(yy_test, yy_test_proba)\n",
        "print(\"ROC AUC = \", auc)"
      ],
      "execution_count": null,
      "outputs": []
    },
    {
      "cell_type": "markdown",
      "metadata": {
        "id": "FBc06Pa7C6hv"
      },
      "source": [
        "## Вывод 3\n",
        "\n",
        "Для CVAE получили ROC AUC около 0.7 (меньше лучше). Таким образом видим, что в данной задаче обе модели ведут себя схожим образом. Но может их можно как-то улучшить? Или есть какая-то еще модель? :)"
      ]
    },
    {
      "cell_type": "markdown",
      "metadata": {
        "id": "rwSUtZsxC6hv"
      },
      "source": [
        "<center><img src=\"https://github.com/aromana33/hw4_dl_2021/blob/main/img/mem1.jpg?raw=1\" width=\"500\"></center>\n",
        "\n",
        "<center><img src=\"https://github.com/aromana33/hw4_dl_2021/blob/main/img/mem2.jpg?raw=1\" width=\"500\"></center>"
      ]
    },
    {
      "cell_type": "markdown",
      "metadata": {
        "id": "LnNPGNtpC6hv"
      },
      "source": [
        "# Бонус (0 баллов)\n",
        "\n",
        "Попробуйте настроить параметры обучения каждой модели или еще как-нибудь их улучшить, чтобы получить как можно меньший ROC AUC. Что получилось? Какая модель лучше? "
      ]
    },
    {
      "cell_type": "code",
      "metadata": {
        "id": "6_v_TFsAC6hv"
      },
      "source": [
        ""
      ],
      "execution_count": null,
      "outputs": []
    }
  ]
}